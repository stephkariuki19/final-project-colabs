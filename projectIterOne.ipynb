{
  "nbformat": 4,
  "nbformat_minor": 0,
  "metadata": {
    "colab": {
      "provenance": [],
      "gpuType": "T4",
      "authorship_tag": "ABX9TyOWH+8XuR6eqpZh2kq4L8pg",
      "include_colab_link": true
    },
    "kernelspec": {
      "name": "python3",
      "display_name": "Python 3"
    },
    "language_info": {
      "name": "python"
    }
  },
  "cells": [
    {
      "cell_type": "markdown",
      "metadata": {
        "id": "view-in-github",
        "colab_type": "text"
      },
      "source": [
        "<a href=\"https://colab.research.google.com/github/stephkariuki19/final-project-colabs/blob/main/projectIterOne.ipynb\" target=\"_parent\"><img src=\"https://colab.research.google.com/assets/colab-badge.svg\" alt=\"Open In Colab\"/></a>"
      ]
    },
    {
      "cell_type": "code",
      "execution_count": null,
      "metadata": {
        "id": "w8gSXZ07gLoV"
      },
      "outputs": [],
      "source": [
        "'''\n",
        "DISEASES:\n",
        "THE DISEASES:\n",
        "Pneumonia\n",
        "Consolidation\n",
        "Infiltration\n",
        "Pneumothorax\n",
        "Asthma\n",
        "Emphysema\n",
        "Fibrosis\n",
        "Covid- 19\n",
        " Effusion\n",
        "Atelectasis\n",
        "Pleural_thickening\n",
        "Cardiomegaly\n",
        "Nodule Mass\n",
        "TB\n",
        "'''"
      ]
    },
    {
      "cell_type": "code",
      "source": [
        "!pip install --upgrade --quiet  langchain-pinecone langchain-openai langchain"
      ],
      "metadata": {
        "id": "4YFyib5ujQMi"
      },
      "execution_count": null,
      "outputs": []
    },
    {
      "cell_type": "code",
      "source": [
        "pip install langchain-community"
      ],
      "metadata": {
        "id": "U0Q8X0VOsfMj"
      },
      "execution_count": null,
      "outputs": []
    },
    {
      "cell_type": "code",
      "source": [
        "from langchain_community.document_loaders import AsyncHtmlLoader\n",
        "\n",
        "urls = [\"https://www.mayoclinic.org/diseases-conditions/enlarged-heart/symptoms-causes/syc-20355436\"]\n",
        "loader = AsyncHtmlLoader(urls)\n",
        "docs = loader.load()\n",
        "\n",
        "\n"
      ],
      "metadata": {
        "colab": {
          "base_uri": "https://localhost:8080/"
        },
        "id": "KT4_Wzo0j-el",
        "outputId": "d31fd26f-6fb2-44dc-dc16-ce2f64d320b4"
      },
      "execution_count": 3,
      "outputs": [
        {
          "output_type": "stream",
          "name": "stderr",
          "text": [
            "Fetching pages: 100%|##########| 1/1 [00:00<00:00,  2.35it/s]\n"
          ]
        }
      ]
    },
    {
      "cell_type": "code",
      "source": [
        "pip install html2text"
      ],
      "metadata": {
        "colab": {
          "base_uri": "https://localhost:8080/"
        },
        "id": "L84fuJaPkW3h",
        "outputId": "41907d3c-801b-49d0-acb4-6059e0e40e5b"
      },
      "execution_count": 5,
      "outputs": [
        {
          "output_type": "stream",
          "name": "stdout",
          "text": [
            "Collecting html2text\n",
            "  Downloading html2text-2020.1.16-py3-none-any.whl (32 kB)\n",
            "Installing collected packages: html2text\n",
            "Successfully installed html2text-2020.1.16\n"
          ]
        }
      ]
    },
    {
      "cell_type": "code",
      "source": [
        "#function to output results of webpage only\n",
        "from langchain_community.document_transformers import Html2TextTransformer\n",
        "\n",
        "# Define the topics of interest\n",
        "topics = ['symptoms', 'when to see a doctor', 'causes', 'risk factors', 'complications', 'prevention', 'vaccination']\n",
        "\n",
        "html2text = Html2TextTransformer()\n",
        "docs_transformed = html2text.transform_documents(docs)\n",
        "\n",
        "# Dictionary to store content for each topic\n",
        "topic_content = {topic: [] for topic in topics}\n",
        "\n",
        "# Iterate over transformed documents\n",
        "for doc in docs_transformed:\n",
        "    # Iterate over each topic\n",
        "    for topic in topics:\n",
        "        # Find the index of the topic in the page content\n",
        "        index = doc.page_content.lower().find(topic)\n",
        "        if index != -1:\n",
        "            # Find the end index of the topic's section\n",
        "            next_topic_index = len(doc.page_content)\n",
        "            for next_topic in topics:\n",
        "                next_index = doc.page_content.lower().find(next_topic)\n",
        "                if next_index != -1 and next_index > index:\n",
        "                    next_topic_index = min(next_topic_index, next_index)\n",
        "            # Extract content for the topic\n",
        "            topic_content[topic].append(doc.page_content[index:next_topic_index])\n",
        "\n",
        "# Print content for each topic\n",
        "for topic, content_list in topic_content.items():\n",
        "    print(f\"Content for topic '{topic}':\")\n",
        "    for content in content_list:\n",
        "        print(content)\n",
        "        print(\"---------------------\")\n"
      ],
      "metadata": {
        "id": "Ay3MTsmQkKRq"
      },
      "execution_count": null,
      "outputs": []
    },
    {
      "cell_type": "code",
      "source": [
        "#function to output results of webpage and save to my Google drive\n",
        "from google.colab import drive\n",
        "from langchain_community.document_transformers import Html2TextTransformer\n",
        "\n",
        "# Mount Google Drive\n",
        "drive.mount('/content/drive',force_remount=True)\n",
        "\n",
        "# Define the topics of interest\n",
        "topics = ['symptoms', 'when to see a doctor', 'causes', 'risk factors', 'complications', 'prevention', 'vaccination']\n",
        "\n",
        "html2text = Html2TextTransformer()\n",
        "docs_transformed = html2text.transform_documents(docs)\n",
        "\n",
        "# Dictionary to store content for each topic\n",
        "topic_content = {topic: [] for topic in topics}\n",
        "\n",
        "# Iterate over transformed documents\n",
        "for doc in docs_transformed:\n",
        "    # Iterate over each topic\n",
        "    for topic in topics:\n",
        "        # Find the index of the topic in the page content\n",
        "        index = doc.page_content.lower().find(topic)\n",
        "        if index != -1:\n",
        "            # Find the end index of the topic's section\n",
        "            next_topic_index = len(doc.page_content)\n",
        "            for next_topic in topics:\n",
        "                next_index = doc.page_content.lower().find(next_topic)\n",
        "                if next_index != -1 and next_index > index:\n",
        "                    next_topic_index = min(next_topic_index, next_index)\n",
        "            # Extract content for the topic\n",
        "            topic_content[topic].append(doc.page_content[index:next_topic_index])\n",
        "\n",
        "# Write content for each topic to pneumonia.txt in Google Drive\n",
        "file_path = '/content/drive/My Drive/Cardiomegaly.txt'\n",
        "with open(file_path, 'w', encoding='utf-8') as file:\n",
        "    for topic, content_list in topic_content.items():\n",
        "        file.write(f\"Content for topic '{topic}':\\n\")\n",
        "        for content in content_list:\n",
        "            file.write(content + \"\\n\")\n",
        "            file.write(\"---------------------\\n\")\n",
        "\n",
        "print(f\"Content written to {file_path} successfully.\")\n"
      ],
      "metadata": {
        "colab": {
          "base_uri": "https://localhost:8080/"
        },
        "id": "a-XA88bfrorq",
        "outputId": "393df684-54a5-4f7c-c94c-e745fd815ca6"
      },
      "execution_count": 6,
      "outputs": [
        {
          "output_type": "stream",
          "name": "stdout",
          "text": [
            "Mounted at /content/drive\n",
            "Content written to /content/drive/My Drive/Cardiomegaly.txt successfully.\n"
          ]
        }
      ]
    }
  ]
}